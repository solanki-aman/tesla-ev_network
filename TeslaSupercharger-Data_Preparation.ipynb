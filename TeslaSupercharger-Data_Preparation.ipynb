{
 "cells": [
  {
   "cell_type": "code",
   "execution_count": 1,
   "metadata": {},
   "outputs": [],
   "source": [
    "import pandas as pd\n",
    "import googlemaps\n",
    "import time\n",
    "import datetime\n",
    "import random\n",
    "#pip install googlemaps"
   ]
  },
  {
   "cell_type": "code",
   "execution_count": 2,
   "metadata": {},
   "outputs": [],
   "source": [
    "df = pd.read_csv('telsaEV_ca.csv', index_col=0)\n",
    "df = df.reset_index(drop=True)\n",
    "df['Full_Address'] = df['Address'] + ', ' + df['City']"
   ]
  },
  {
   "cell_type": "code",
   "execution_count": 3,
   "metadata": {},
   "outputs": [],
   "source": [
    "df['Full_Address'] = df['Full_Address'].replace('North', 'N', regex=True)\n",
    "df['Full_Address'] = df['Full_Address'].replace('Third', '3rd', regex=True)"
   ]
  },
  {
   "cell_type": "code",
   "execution_count": 7,
   "metadata": {},
   "outputs": [
    {
     "name": "stdout",
     "output_type": "stream",
     "text": [
      "<class 'pandas.core.frame.DataFrame'>\n",
      "RangeIndex: 179 entries, 0 to 178\n",
      "Data columns (total 5 columns):\n",
      " #   Column        Non-Null Count  Dtype \n",
      "---  ------        --------------  ----- \n",
      " 0   Address       179 non-null    object\n",
      " 1   City          179 non-null    object\n",
      " 2   ZipCode       179 non-null    int64 \n",
      " 3   County        179 non-null    object\n",
      " 4   Full_Address  179 non-null    object\n",
      "dtypes: int64(1), object(4)\n",
      "memory usage: 7.1+ KB\n"
     ]
    }
   ],
   "source": [
    "df.info()"
   ]
  },
  {
   "cell_type": "code",
   "execution_count": null,
   "metadata": {},
   "outputs": [],
   "source": [
    "#gmaps = googlemaps.Client(key='****************************') \n",
    "\n",
    "latList = []\n",
    "lngList = []\n",
    "iteration = 0\n",
    "\n",
    "for i in df['Full_Address']:\n",
    "    #print(iteration)\n",
    "    geocode_result = gmaps.geocode(i)\n",
    "    latList.append(geocode_result[0]['geometry']['location']['lat'])\n",
    "    lngList.append(geocode_result[0]['geometry']['location']['lng'])\n",
    "    iteration+=1\n",
    "    \n",
    "df['Longitude'] = latList\n",
    "df['Latitude'] = lngList"
   ]
  },
  {
   "cell_type": "code",
   "execution_count": null,
   "metadata": {},
   "outputs": [],
   "source": [
    "df.head(50)"
   ]
  },
  {
   "cell_type": "code",
   "execution_count": 10,
   "metadata": {},
   "outputs": [],
   "source": [
    "df.to_csv(\"tesla_geocoded.csv\")"
   ]
  },
  {
   "cell_type": "code",
   "execution_count": null,
   "metadata": {},
   "outputs": [],
   "source": []
  }
 ],
 "metadata": {
  "kernelspec": {
   "display_name": "Python 3",
   "language": "python",
   "name": "python3"
  },
  "language_info": {
   "codemirror_mode": {
    "name": "ipython",
    "version": 3
   },
   "file_extension": ".py",
   "mimetype": "text/x-python",
   "name": "python",
   "nbconvert_exporter": "python",
   "pygments_lexer": "ipython3",
   "version": "3.8.5"
  }
 },
 "nbformat": 4,
 "nbformat_minor": 4
}
