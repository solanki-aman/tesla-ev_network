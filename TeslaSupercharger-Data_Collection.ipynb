{
 "cells": [
  {
   "cell_type": "code",
   "execution_count": 1,
   "metadata": {},
   "outputs": [],
   "source": [
    "import pandas as pd\n",
    "\n",
    "#data collection\n",
    "from bs4 import BeautifulSoup\n",
    "import requests\n",
    "import re"
   ]
  },
  {
   "cell_type": "code",
   "execution_count": 2,
   "metadata": {},
   "outputs": [],
   "source": [
    "url = 'https://www.tesla.com/findus/list/superchargers/United+States'\n",
    "\n",
    "req_headers = {\n",
    "    'casca'\n",
    "    'accept': 'text/html,application/xhtml+xml,application/xml;q=0.9,image/webp,image/apng,*/*;q=0.8',\n",
    "    'accept-encoding': 'gzip, deflate, br',\n",
    "    'accept-language': 'en-US,en;q=0.8',\n",
    "    'upgrade-insecure-requests': '1',\n",
    "    'user-agent': 'Mozilla/5.0 (Windows NT 10.0; Win64; x64) AppleWebKit/537.36 (KHTML, like Gecko) Chrome/61.0.3163.100 axazs'\n",
    "}\n",
    "\n",
    "s = requests.Session()\n",
    "\n",
    "r = s.get(url, headers=req_headers)\n",
    "soup = BeautifulSoup(r.content, 'html.parser')"
   ]
  },
  {
   "cell_type": "code",
   "execution_count": 3,
   "metadata": {},
   "outputs": [],
   "source": [
    "address = soup.find_all('span', attrs={'class': 'street-address'})"
   ]
  },
  {
   "cell_type": "code",
   "execution_count": 4,
   "metadata": {},
   "outputs": [],
   "source": [
    "locality = soup.find_all('span', attrs={'class': 'locality'})"
   ]
  },
  {
   "cell_type": "code",
   "execution_count": 5,
   "metadata": {},
   "outputs": [],
   "source": [
    "ev_address = []\n",
    "for i in address:\n",
    "    if len(i)==0:\n",
    "        ev_address.append('Coming-Soon')\n",
    "    if len(i)==1:\n",
    "        ev_address.append(str(i).split('>')[1].split('<')[0])"
   ]
  },
  {
   "cell_type": "code",
   "execution_count": 6,
   "metadata": {},
   "outputs": [],
   "source": [
    "ev_locality = []\n",
    "for j in locality:\n",
    "    ev_locality.append(str(j).split('>')[1].split('<')[0])"
   ]
  },
  {
   "cell_type": "code",
   "execution_count": 7,
   "metadata": {},
   "outputs": [],
   "source": [
    "tesla_ev = pd.DataFrame()\n",
    "tesla_ev['Address'] = ev_address\n",
    "tesla_ev['Locality'] = ev_locality"
   ]
  },
  {
   "cell_type": "code",
   "execution_count": 8,
   "metadata": {},
   "outputs": [
    {
     "data": {
      "text/html": [
       "<div>\n",
       "<style scoped>\n",
       "    .dataframe tbody tr th:only-of-type {\n",
       "        vertical-align: middle;\n",
       "    }\n",
       "\n",
       "    .dataframe tbody tr th {\n",
       "        vertical-align: top;\n",
       "    }\n",
       "\n",
       "    .dataframe thead th {\n",
       "        text-align: right;\n",
       "    }\n",
       "</style>\n",
       "<table border=\"1\" class=\"dataframe\">\n",
       "  <thead>\n",
       "    <tr style=\"text-align: right;\">\n",
       "      <th></th>\n",
       "      <th>Address</th>\n",
       "      <th>Locality</th>\n",
       "    </tr>\n",
       "  </thead>\n",
       "  <tbody>\n",
       "    <tr>\n",
       "      <th>0</th>\n",
       "      <td>21282 Athens-Limestone Blvd</td>\n",
       "      <td>Athens, AL</td>\n",
       "    </tr>\n",
       "    <tr>\n",
       "      <th>1</th>\n",
       "      <td>1627 Opelika Road</td>\n",
       "      <td>Auburn, AL 36830</td>\n",
       "    </tr>\n",
       "    <tr>\n",
       "      <th>2</th>\n",
       "      <td>2221 Richard Arrington Junior Blvd</td>\n",
       "      <td>Birmingham, AL 35203-1103</td>\n",
       "    </tr>\n",
       "    <tr>\n",
       "      <th>3</th>\n",
       "      <td>Coming-Soon</td>\n",
       "      <td>Dothan, AL</td>\n",
       "    </tr>\n",
       "    <tr>\n",
       "      <th>4</th>\n",
       "      <td>219 Interstate Drive</td>\n",
       "      <td>Greenville, AL 36037</td>\n",
       "    </tr>\n",
       "  </tbody>\n",
       "</table>\n",
       "</div>"
      ],
      "text/plain": [
       "                              Address                   Locality\n",
       "0         21282 Athens-Limestone Blvd                Athens, AL \n",
       "1                   1627 Opelika Road           Auburn, AL 36830\n",
       "2  2221 Richard Arrington Junior Blvd  Birmingham, AL 35203-1103\n",
       "3                         Coming-Soon                Dothan, AL \n",
       "4                219 Interstate Drive       Greenville, AL 36037"
      ]
     },
     "execution_count": 8,
     "metadata": {},
     "output_type": "execute_result"
    }
   ],
   "source": [
    "tesla_ev.head()"
   ]
  },
  {
   "cell_type": "code",
   "execution_count": 9,
   "metadata": {},
   "outputs": [],
   "source": [
    "telsaEV_ca = tesla_ev[tesla_ev['Locality'].str.contains('CA')] #considering only California Supercharging Stations"
   ]
  },
  {
   "cell_type": "code",
   "execution_count": 10,
   "metadata": {},
   "outputs": [
    {
     "name": "stderr",
     "output_type": "stream",
     "text": [
      "<ipython-input-10-438524c0d36e>:1: UserWarning: Boolean Series key will be reindexed to match DataFrame index.\n",
      "  i = telsaEV_ca[tesla_ev['Address'].str.contains('Coming-Soon')].index #drop upcoming Supercharing Stations\n"
     ]
    }
   ],
   "source": [
    "i = telsaEV_ca[tesla_ev['Address'].str.contains('Coming-Soon')].index #drop upcoming Supercharing Stations"
   ]
  },
  {
   "cell_type": "code",
   "execution_count": 11,
   "metadata": {},
   "outputs": [],
   "source": [
    "telsaEV_ca = telsaEV_ca.drop(i)"
   ]
  },
  {
   "cell_type": "code",
   "execution_count": 12,
   "metadata": {},
   "outputs": [],
   "source": [
    "cityList = []\n",
    "zipCodeList = []\n",
    "for i in telsaEV_ca['Locality']:\n",
    "    cityList.append(i.split(',')[0]) \n",
    "    \n",
    "    if i.split()[-1].isnumeric() == True:\n",
    "        zipCodeList.append(i.split()[-1])\n",
    "    else:\n",
    "        zipCodeList.append('0')\n",
    "\n",
    "    \n",
    "telsaEV_ca['City'] = cityList\n",
    "telsaEV_ca['ZipCode'] = zipCodeList"
   ]
  },
  {
   "cell_type": "code",
   "execution_count": 13,
   "metadata": {},
   "outputs": [],
   "source": [
    "telsaEV_ca = telsaEV_ca.drop(columns='Locality')"
   ]
  },
  {
   "cell_type": "code",
   "execution_count": 15,
   "metadata": {},
   "outputs": [],
   "source": [
    "from uszipcode import SearchEngine\n",
    "search = SearchEngine(simple_zipcode=True)\n",
    "countyList = []\n",
    "\n",
    "for i in telsaEV_ca['ZipCode']:\n",
    "    date = search.by_zipcode(i)\n",
    "    dataDict = date.to_dict()\n",
    "    countyList.append(dataDict['county'])\n",
    "    \n",
    "telsaEV_ca['County'] = countyList"
   ]
  },
  {
   "cell_type": "code",
   "execution_count": 21,
   "metadata": {},
   "outputs": [],
   "source": [
    "telsaEV_ca = telsaEV_ca.dropna()"
   ]
  },
  {
   "cell_type": "code",
   "execution_count": 24,
   "metadata": {},
   "outputs": [
    {
     "name": "stdout",
     "output_type": "stream",
     "text": [
      "<class 'pandas.core.frame.DataFrame'>\n",
      "Int64Index: 179 entries, 46 to 976\n",
      "Data columns (total 4 columns):\n",
      " #   Column   Non-Null Count  Dtype \n",
      "---  ------   --------------  ----- \n",
      " 0   Address  179 non-null    object\n",
      " 1   City     179 non-null    object\n",
      " 2   ZipCode  179 non-null    object\n",
      " 3   County   179 non-null    object\n",
      "dtypes: object(4)\n",
      "memory usage: 7.0+ KB\n"
     ]
    }
   ],
   "source": [
    "telsaEV_ca.info()"
   ]
  },
  {
   "cell_type": "code",
   "execution_count": 17,
   "metadata": {},
   "outputs": [],
   "source": [
    "telsaEV_ca.to_csv(\"telsaEV_ca.csv\")"
   ]
  }
 ],
 "metadata": {
  "kernelspec": {
   "display_name": "Python 3",
   "language": "python",
   "name": "python3"
  },
  "language_info": {
   "codemirror_mode": {
    "name": "ipython",
    "version": 3
   },
   "file_extension": ".py",
   "mimetype": "text/x-python",
   "name": "python",
   "nbconvert_exporter": "python",
   "pygments_lexer": "ipython3",
   "version": "3.8.5"
  }
 },
 "nbformat": 4,
 "nbformat_minor": 4
}
